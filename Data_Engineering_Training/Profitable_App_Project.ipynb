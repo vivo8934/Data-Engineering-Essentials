{
 "cells": [
  {
   "cell_type": "code",
   "execution_count": 1,
   "id": "14bbf91c",
   "metadata": {},
   "outputs": [],
   "source": [
    "#Profitable App Profiles for the App Store and Google Play Markets"
   ]
  },
  {
   "cell_type": "code",
   "execution_count": 2,
   "id": "0fd43fff",
   "metadata": {},
   "outputs": [],
   "source": [
    "##Our aim in this project is to find mobile app profiles that are profitable for the App Store and Google Play markets. We're working as data analysts for a company that builds Android and iOS mobile apps, and our job is to enable our team of developers to make data-driven decisions with respect to the kind of apps they build.\n",
    "\n",
    "##At our company, we only build apps that are free to download and install, and our main source of revenue consists of in-app ads. This means that our revenue for any given app is mostly influenced by the number of users that use our app. Our goal for this project is to analyze data to help our developers understand what kinds of apps are likely to attract more users."
   ]
  },
  {
   "cell_type": "code",
   "execution_count": 2,
   "id": "97557545",
   "metadata": {},
   "outputs": [],
   "source": [
    "from csv import reader"
   ]
  },
  {
   "cell_type": "code",
   "execution_count": 3,
   "id": "32db87d3",
   "metadata": {},
   "outputs": [
    {
     "name": "stdout",
     "output_type": "stream",
     "text": [
      "['id', 'track_name', 'size_bytes', 'currency', 'price', 'rating_count_tot', 'rating_count_ver', 'user_rating', 'user_rating_ver', 'ver', 'cont_rating', 'prime_genre', 'sup_devices.num', 'ipadSc_urls.num', 'lang.num', 'vpp_lic']\n"
     ]
    }
   ],
   "source": [
    "open_file1 = open('AppleStore.csv',encoding='utf8')\n",
    "read_file = reader(open_file1)\n",
    "iso = list(read_file)\n",
    "iso_header = iso[0]\n",
    "iso_data = iso[1:]\n",
    "print(iso_header)"
   ]
  },
  {
   "cell_type": "code",
   "execution_count": 13,
   "id": "5dcad8ce",
   "metadata": {},
   "outputs": [],
   "source": [
    "open_file2 = open('googleplaystore.csv', encoding= 'utf8')\n",
    "read_file = reader(open_file2)\n",
    "android = list(read_file)\n",
    "android_header = android[0]\n",
    "android_data = android[1:]\n"
   ]
  },
  {
   "cell_type": "code",
   "execution_count": 7,
   "id": "ea8fda7f",
   "metadata": {},
   "outputs": [],
   "source": [
    "def explore_data(dataset, start, end, rows_and_columns = False):\n",
    "    dataset_slice = dataset[start:end]\n",
    "    for row in dataset_slice:\n",
    "        print(row)\n",
    "        print('\\n')\n",
    "        \n",
    "    if rows_and_columns:\n",
    "        print('number of rows: ' , len(dataset))\n",
    "        print('Number of column: ', len(dataset[0]))"
   ]
  },
  {
   "cell_type": "code",
   "execution_count": 8,
   "id": "ab7343bf",
   "metadata": {},
   "outputs": [
    {
     "name": "stdout",
     "output_type": "stream",
     "text": [
      "['App', 'Category', 'Rating', 'Reviews', 'Size', 'Installs', 'Type', 'Price', 'Content Rating', 'Genres', 'Last Updated', 'Current Ver', 'Android Ver']\n",
      "['Coloring book moana', 'ART_AND_DESIGN', '3.9', '967', '14M', '500,000+', 'Free', '0', 'Everyone', 'Art & Design;Pretend Play', 'January 15, 2018', '2.0.0', '4.0.3 and up']\n",
      "\n",
      "\n",
      "['U Launcher Lite – FREE Live Cool Themes, Hide Apps', 'ART_AND_DESIGN', '4.7', '87510', '8.7M', '5,000,000+', 'Free', '0', 'Everyone', 'Art & Design', 'August 1, 2018', '1.2.4', '4.0.3 and up']\n",
      "\n",
      "\n",
      "['Sketch - Draw & Paint', 'ART_AND_DESIGN', '4.5', '215644', '25M', '50,000,000+', 'Free', '0', 'Teen', 'Art & Design', 'June 8, 2018', 'Varies with device', '4.2 and up']\n",
      "\n",
      "\n",
      "['Pixel Draw - Number Art Coloring Book', 'ART_AND_DESIGN', '4.3', '967', '2.8M', '100,000+', 'Free', '0', 'Everyone', 'Art & Design;Creativity', 'June 20, 2018', '1.1', '4.4 and up']\n",
      "\n",
      "\n",
      "['Paper flowers instructions', 'ART_AND_DESIGN', '4.4', '167', '5.6M', '50,000+', 'Free', '0', 'Everyone', 'Art & Design', 'March 26, 2017', '1.0', '2.3 and up']\n",
      "\n",
      "\n",
      "['Smoke Effect Photo Maker - Smoke Editor', 'ART_AND_DESIGN', '3.8', '178', '19M', '50,000+', 'Free', '0', 'Everyone', 'Art & Design', 'April 26, 2018', '1.1', '4.0.3 and up']\n",
      "\n",
      "\n",
      "number of rows:  10841\n",
      "Number of column:  13\n"
     ]
    }
   ],
   "source": [
    "print(android_header)\n",
    "explore_data(android_data, 1, 7, rows_and_columns = True)"
   ]
  },
  {
   "cell_type": "code",
   "execution_count": 9,
   "id": "5382d631",
   "metadata": {},
   "outputs": [
    {
     "name": "stdout",
     "output_type": "stream",
     "text": [
      "['Life Made WI-Fi Touchscreen Photo Frame', '1.9', '19', '3.0M', '1,000+', 'Free', '0', 'Everyone', '', 'February 11, 2018', '1.0.19', '4.0 and up']\n",
      "\n",
      "\n",
      "10472\n"
     ]
    }
   ],
   "source": [
    "for row in android_data:\n",
    "    if len(row) != len(android_header):\n",
    "        print(row)\n",
    "        print(\"\\n\")\n",
    "        print(android_data.index(row))\n",
    "        "
   ]
  },
  {
   "cell_type": "code",
   "execution_count": 22,
   "id": "1ef8679c",
   "metadata": {},
   "outputs": [],
   "source": [
    "del(android_data[10472])"
   ]
  },
  {
   "cell_type": "code",
   "execution_count": 16,
   "id": "ec882996",
   "metadata": {
    "scrolled": true
   },
   "outputs": [
    {
     "name": "stdout",
     "output_type": "stream",
     "text": [
      "Number of duplicates:  1181\n",
      "duplicates:  ['Quick PDF Scanner + OCR FREE', 'Box', 'Google My Business', 'ZOOM Cloud Meetings', 'join.me - Simple Meetings']\n"
     ]
    }
   ],
   "source": [
    "duplicates_apps = []\n",
    "unique_apps = []\n",
    "\n",
    "for app in android_data:\n",
    "    name = app[0]\n",
    "    if name in unique_apps:\n",
    "        duplicates_apps.append(name)\n",
    "    else:\n",
    "        unique_apps.append(name)\n",
    "        \n",
    "print('Number of duplicates: ', len(duplicates_apps))\n",
    "print('duplicates: ' ,duplicates_apps[:5])"
   ]
  },
  {
   "cell_type": "code",
   "execution_count": 25,
   "id": "b11cc8df",
   "metadata": {},
   "outputs": [],
   "source": [
    "reviews_max = {}\n",
    "\n",
    "for app in android_data: \n",
    "    name = app[0] \n",
    "    n_reviews = float(app[2])\n",
    "\n",
    "if name in reviews_max and reviews_max[name] < n_reviews:\n",
    "    reviews_max[name] = n_reviews\n",
    "    \n",
    "elif name not in reviews_max:\n",
    "    reviews_max[name] = n_reviews"
   ]
  },
  {
   "cell_type": "code",
   "execution_count": 26,
   "id": "06712db2",
   "metadata": {},
   "outputs": [
    {
     "name": "stdout",
     "output_type": "stream",
     "text": [
      "Expected length: 9659\n",
      "{'iHoroscope - 2018 Daily Horoscope & Astrology': 4.5}\n",
      "Actual length: 1\n"
     ]
    }
   ],
   "source": [
    "print('Expected length:', len(android_data) - 1181)\n",
    "print(reviews_max)\n",
    "print('Actual length:', len(reviews_max))"
   ]
  },
  {
   "cell_type": "code",
   "execution_count": null,
   "id": "d1040aba",
   "metadata": {},
   "outputs": [],
   "source": []
  }
 ],
 "metadata": {
  "kernelspec": {
   "display_name": "Python 3 (ipykernel)",
   "language": "python",
   "name": "python3"
  },
  "language_info": {
   "codemirror_mode": {
    "name": "ipython",
    "version": 3
   },
   "file_extension": ".py",
   "mimetype": "text/x-python",
   "name": "python",
   "nbconvert_exporter": "python",
   "pygments_lexer": "ipython3",
   "version": "3.10.9"
  }
 },
 "nbformat": 4,
 "nbformat_minor": 5
}
